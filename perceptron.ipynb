{
 "cells": [
  {
   "attachments": {},
   "cell_type": "markdown",
   "metadata": {},
   "source": [
    "# Perceptron with 1 input 2 hidden and 1 output layers \n",
    "<img src=\"perceptron.png\" height=\"400\" width=\"600\" />"
   ]
  },
  {
   "cell_type": "code",
   "execution_count": null,
   "metadata": {},
   "outputs": [],
   "source": [
    "import numpy as np\n",
    "# updated from Valerio Velardo's code for multi-layer perceptron by John R Williams\n",
    "\n",
    "def MLP(num_inputs=3, hidden_layers=[3, 3], num_outputs=2):\n",
    "    # A Multilayer Perceptron function.\n",
    "    # Constructor for the MLP. Takes the number of inputs,\n",
    "    # a variable number of hidden layers, and number of outputs\n",
    "    #Args:\n",
    "    # num_inputs (int): Number of inputs\n",
    "    # hidden_layers (list): A list of ints for the hidden layers\n",
    "    # num_outputs (int): Number of outputs\n",
    "\n",
    "    # create a generic representation of the layers\n",
    "    layers = [num_inputs] + hidden_layers + [num_outputs]\n",
    "    print(f\"layers: {layers}\")\n",
    "    # create random connection weights for the layers\n",
    "    weights = []\n",
    "    for i in range(len(layers)-1):\n",
    "        w = np.random.rand(layers[i], layers[i+1])   # matrix of random weights between layers i and i+1\n",
    "        print(w.shape)   # this will be a 3,3 or 3,2 matrix \n",
    "        weights.append(w)\n",
    "    return layers, weights\n",
    "\n",
    "\n",
    "\n"
   ]
  },
  {
   "cell_type": "code",
   "execution_count": null,
   "metadata": {},
   "outputs": [],
   "source": [
    "def forward_propagate(inputs, weights):\n",
    "    # Computes forward propagation of the network based on input signals.\n",
    "    # Args:\n",
    "    #    inputs (ndarray): Input signals\n",
    "    #    weights (list): Weights of the network\n",
    "    # Returns:\n",
    "    #   activations (ndarray): Output values\n",
    "\n",
    "    # the input layer activation is just the input itself\n",
    "    activations = inputs\n",
    "\n",
    "    # iterate through the network layers\n",
    "    for w in weights:\n",
    "\n",
    "        # calculate matrix multiplication between previous activation and weight matrix\n",
    "        net_inputs = np.dot(activations, w)\n",
    "\n",
    "        # apply sigmoid activation function\n",
    "        activations = sigmoid(net_inputs)\n",
    "\n",
    "    # return output layer activation\n",
    "    return activations\n",
    "\n",
    "\n",
    "def sigmoid(x):\n",
    "    # Sigmoid activation function\n",
    "    # Args:\n",
    "    #   x (float): Value to be processed\n",
    "    # Returns:\n",
    "    #   y (float): Output\n",
    "\n",
    "    y = 1.0 / (1 + np.exp(-x))\n",
    "    return y\n",
    "\n"
   ]
  },
  {
   "cell_type": "markdown",
   "metadata": {},
   "source": []
  },
  {
   "cell_type": "code",
   "execution_count": 2,
   "metadata": {},
   "outputs": [
    {
     "name": "stdout",
     "output_type": "stream",
     "text": [
      "layers: [3, 3, 3, 2]\n",
      "(3, 3)\n",
      "(3, 3)\n",
      "(3, 2)\n",
      "weights: [array([[0.59867418, 0.37014712, 0.51192599],\n",
      "       [0.57600142, 0.46395293, 0.16413306],\n",
      "       [0.05027112, 0.0127874 , 0.0216734 ]]), array([[0.3789039 , 0.93073371, 0.00550084],\n",
      "       [0.7050143 , 0.26366547, 0.79729175],\n",
      "       [0.39003462, 0.86000499, 0.40840231]]), array([[0.22508089, 0.00466134],\n",
      "       [0.03610885, 0.99007383],\n",
      "       [0.97164739, 0.95858361]])]\n",
      "<class 'list'>\n",
      "Network activation: [0.70443466 0.81286102]\n"
     ]
    }
   ],
   "source": [
    "\n",
    "# create a Multilayer Perceptron\n",
    "num_inputs = 3\n",
    "hidden_layers = [3, 3]\n",
    "num_outputs = 2\n",
    "layers, weights = MLP(num_inputs, hidden_layers, num_outputs)\n",
    "print(f\"weights: {weights}\")\n",
    "# set random values for network's input\n",
    "inputs = np.random.rand(num_inputs)\n",
    "\n",
    "# perform forward propagation\n",
    "output = forward_propagate(inputs, weights)\n",
    "\n",
    "print(\"Network activation: {}\".format(output))\n"
   ]
  },
  {
   "cell_type": "markdown",
   "metadata": {},
   "source": []
  }
 ],
 "metadata": {
  "kernelspec": {
   "display_name": "base",
   "language": "python",
   "name": "python3"
  },
  "language_info": {
   "codemirror_mode": {
    "name": "ipython",
    "version": 3
   },
   "file_extension": ".py",
   "mimetype": "text/x-python",
   "name": "python",
   "nbconvert_exporter": "python",
   "pygments_lexer": "ipython3",
   "version": "3.10.6"
  },
  "orig_nbformat": 4
 },
 "nbformat": 4,
 "nbformat_minor": 2
}
