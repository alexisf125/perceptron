{
 "cells": [
  {
   "cell_type": "code",
   "execution_count": 9,
   "metadata": {},
   "outputs": [],
   "source": [
    "import numpy as np\n",
    "# updated from Valerio Velardo's code by John R Williams\n",
    "\n",
    "def MLP(num_inputs=3, hidden_layers=[3, 3], num_outputs=2):\n",
    "    # A Multilayer Perceptron function.\n",
    "    # Constructor for the MLP. Takes the number of inputs,\n",
    "    # a variable number of hidden layers, and number of outputs\n",
    "    #Args:\n",
    "    # num_inputs (int): Number of inputs\n",
    "    # hidden_layers (list): A list of ints for the hidden layers\n",
    "    # num_outputs (int): Number of outputs\n",
    "\n",
    "    # create a generic representation of the layers\n",
    "    layers = [num_inputs] + hidden_layers + [num_outputs]\n",
    "    print(f\"layers: {layers}\")\n",
    "    # create random connection weights for the layers\n",
    "    weights = []\n",
    "    for i in range(len(layers)-1):\n",
    "        w = np.random.rand(layers[i], layers[i+1])\n",
    "        weights.append(w)\n",
    "    return layers, weights\n",
    "\n",
    "\n",
    "def forward_propagate(inputs, weights):\n",
    "    # Computes forward propagation of the network based on input signals.\n",
    "    # Args:\n",
    "    #    inputs (ndarray): Input signals\n",
    "    #    weights (list): Weights of the network\n",
    "    # Returns:\n",
    "    #   activations (ndarray): Output values\n",
    "\n",
    "    # the input layer activation is just the input itself\n",
    "    activations = inputs\n",
    "\n",
    "    # iterate through the network layers\n",
    "    for w in weights:\n",
    "\n",
    "        # calculate matrix multiplication between previous activation and weight matrix\n",
    "        net_inputs = np.dot(activations, w)\n",
    "\n",
    "        # apply sigmoid activation function\n",
    "        activations = sigmoid(net_inputs)\n",
    "\n",
    "    # return output layer activation\n",
    "    return activations\n",
    "\n",
    "\n",
    "def sigmoid(x):\n",
    "    # Sigmoid activation function\n",
    "    # Args:\n",
    "    #   x (float): Value to be processed\n",
    "    # Returns:\n",
    "    #   y (float): Output\n",
    "\n",
    "    y = 1.0 / (1 + np.exp(-x))\n",
    "    return y\n",
    "\n",
    "\n"
   ]
  },
  {
   "cell_type": "code",
   "execution_count": 13,
   "metadata": {},
   "outputs": [
    {
     "name": "stdout",
     "output_type": "stream",
     "text": [
      "layers: [3, 3, 3, 2]\n",
      "weights: [array([[0.17836835, 0.69780791, 0.79653826],\n",
      "       [0.22520986, 0.6718881 , 0.25778806],\n",
      "       [0.16706025, 0.03976782, 0.50440093]]), array([[0.09869194, 0.21815911, 0.89018032],\n",
      "       [0.18942059, 0.45620391, 0.22802673],\n",
      "       [0.20543039, 0.86085637, 0.05790143]]), array([[0.03741112, 0.79481984],\n",
      "       [0.50633108, 0.82591623],\n",
      "       [0.06471412, 0.41429057]])]\n",
      "<class 'list'>\n",
      "Network activation: [0.60666684 0.79184187]\n"
     ]
    }
   ],
   "source": [
    "\n",
    "# create a Multilayer Perceptron\n",
    "num_inputs = 3\n",
    "hidden_layers = [3, 3]\n",
    "num_outputs = 2\n",
    "layers, weights = MLP(num_inputs, hidden_layers, num_outputs)\n",
    "print(f\"weights: {weights}\")\n",
    "print(type(weights))\n",
    "# set random values for network's input\n",
    "inputs = np.random.rand(num_inputs)\n",
    "\n",
    "# perform forward propagation\n",
    "output = forward_propagate(inputs, weights)\n",
    "\n",
    "print(\"Network activation: {}\".format(output))\n"
   ]
  }
 ],
 "metadata": {
  "kernelspec": {
   "display_name": "base",
   "language": "python",
   "name": "python3"
  },
  "language_info": {
   "codemirror_mode": {
    "name": "ipython",
    "version": 3
   },
   "file_extension": ".py",
   "mimetype": "text/x-python",
   "name": "python",
   "nbconvert_exporter": "python",
   "pygments_lexer": "ipython3",
   "version": "3.10.6"
  },
  "orig_nbformat": 4
 },
 "nbformat": 4,
 "nbformat_minor": 2
}
